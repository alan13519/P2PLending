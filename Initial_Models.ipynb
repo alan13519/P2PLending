{
 "cells": [
  {
   "cell_type": "code",
   "execution_count": 1,
   "metadata": {},
   "outputs": [],
   "source": [
    "import pandas as pd\n",
    "import numpy as np\n",
    "\n",
    "from sklearn.compose import ColumnTransformer\n",
    "from sklearn.ensemble import RandomForestClassifier\n",
    "from sklearn.pipeline import Pipeline, FeatureUnion\n",
    "from sklearn.impute import SimpleImputer # The data should not have any missing values but this is added to be safe\n",
    "from sklearn.preprocessing import StandardScaler, OneHotEncoder\n",
    "from sklearn.model_selection import GridSearchCV, train_test_split\n"
   ]
  },
  {
   "cell_type": "code",
   "execution_count": 2,
   "metadata": {},
   "outputs": [],
   "source": [
    "# Import main data\n",
    "df_main = pd.read_csv(\"data/main_data.csv\")"
   ]
  },
  {
   "cell_type": "code",
   "execution_count": 3,
   "metadata": {},
   "outputs": [
    {
     "data": {
      "text/html": [
       "<div>\n",
       "<style scoped>\n",
       "    .dataframe tbody tr th:only-of-type {\n",
       "        vertical-align: middle;\n",
       "    }\n",
       "\n",
       "    .dataframe tbody tr th {\n",
       "        vertical-align: top;\n",
       "    }\n",
       "\n",
       "    .dataframe thead th {\n",
       "        text-align: right;\n",
       "    }\n",
       "</style>\n",
       "<table border=\"1\" class=\"dataframe\">\n",
       "  <thead>\n",
       "    <tr style=\"text-align: right;\">\n",
       "      <th></th>\n",
       "      <th>loan_amnt</th>\n",
       "      <th>term</th>\n",
       "      <th>int_rate</th>\n",
       "      <th>installment</th>\n",
       "      <th>grade</th>\n",
       "      <th>sub_grade</th>\n",
       "      <th>emp_title</th>\n",
       "      <th>emp_length</th>\n",
       "      <th>home_ownership</th>\n",
       "      <th>annual_inc</th>\n",
       "      <th>...</th>\n",
       "      <th>pub_rec_bankruptcies</th>\n",
       "      <th>tax_liens</th>\n",
       "      <th>tot_hi_cred_lim</th>\n",
       "      <th>total_bal_ex_mort</th>\n",
       "      <th>total_bc_limit</th>\n",
       "      <th>total_il_high_credit_limit</th>\n",
       "      <th>perc_princ_paid</th>\n",
       "      <th>credit_length_years</th>\n",
       "      <th>secondary_app_credit_length_years</th>\n",
       "      <th>has_desc</th>\n",
       "    </tr>\n",
       "  </thead>\n",
       "  <tbody>\n",
       "    <tr>\n",
       "      <th>0</th>\n",
       "      <td>5000.0</td>\n",
       "      <td>3.0</td>\n",
       "      <td>0.1065</td>\n",
       "      <td>162.87</td>\n",
       "      <td>B</td>\n",
       "      <td>B2</td>\n",
       "      <td>Unknown</td>\n",
       "      <td>10</td>\n",
       "      <td>RENT</td>\n",
       "      <td>24000.0</td>\n",
       "      <td>...</td>\n",
       "      <td>0.0</td>\n",
       "      <td>0.0</td>\n",
       "      <td>0.0</td>\n",
       "      <td>0.0</td>\n",
       "      <td>0.0</td>\n",
       "      <td>0.0</td>\n",
       "      <td>1.172631</td>\n",
       "      <td>26</td>\n",
       "      <td>0</td>\n",
       "      <td>1</td>\n",
       "    </tr>\n",
       "    <tr>\n",
       "      <th>1</th>\n",
       "      <td>2500.0</td>\n",
       "      <td>5.0</td>\n",
       "      <td>0.1527</td>\n",
       "      <td>59.83</td>\n",
       "      <td>C</td>\n",
       "      <td>C4</td>\n",
       "      <td>Ryder</td>\n",
       "      <td>1</td>\n",
       "      <td>RENT</td>\n",
       "      <td>30000.0</td>\n",
       "      <td>...</td>\n",
       "      <td>0.0</td>\n",
       "      <td>0.0</td>\n",
       "      <td>0.0</td>\n",
       "      <td>0.0</td>\n",
       "      <td>0.0</td>\n",
       "      <td>0.0</td>\n",
       "      <td>0.405812</td>\n",
       "      <td>12</td>\n",
       "      <td>0</td>\n",
       "      <td>1</td>\n",
       "    </tr>\n",
       "    <tr>\n",
       "      <th>2</th>\n",
       "      <td>2400.0</td>\n",
       "      <td>3.0</td>\n",
       "      <td>0.1596</td>\n",
       "      <td>84.33</td>\n",
       "      <td>C</td>\n",
       "      <td>C5</td>\n",
       "      <td>Unknown</td>\n",
       "      <td>10</td>\n",
       "      <td>RENT</td>\n",
       "      <td>12252.0</td>\n",
       "      <td>...</td>\n",
       "      <td>0.0</td>\n",
       "      <td>0.0</td>\n",
       "      <td>0.0</td>\n",
       "      <td>0.0</td>\n",
       "      <td>0.0</td>\n",
       "      <td>0.0</td>\n",
       "      <td>1.252361</td>\n",
       "      <td>10</td>\n",
       "      <td>0</td>\n",
       "      <td>0</td>\n",
       "    </tr>\n",
       "  </tbody>\n",
       "</table>\n",
       "<p>3 rows × 88 columns</p>\n",
       "</div>"
      ],
      "text/plain": [
       "   loan_amnt  term  int_rate  installment grade sub_grade emp_title  \\\n",
       "0     5000.0   3.0    0.1065       162.87     B        B2   Unknown   \n",
       "1     2500.0   5.0    0.1527        59.83     C        C4     Ryder   \n",
       "2     2400.0   3.0    0.1596        84.33     C        C5   Unknown   \n",
       "\n",
       "   emp_length home_ownership  annual_inc  ... pub_rec_bankruptcies tax_liens  \\\n",
       "0          10           RENT     24000.0  ...                  0.0       0.0   \n",
       "1           1           RENT     30000.0  ...                  0.0       0.0   \n",
       "2          10           RENT     12252.0  ...                  0.0       0.0   \n",
       "\n",
       "   tot_hi_cred_lim total_bal_ex_mort total_bc_limit  \\\n",
       "0              0.0               0.0            0.0   \n",
       "1              0.0               0.0            0.0   \n",
       "2              0.0               0.0            0.0   \n",
       "\n",
       "  total_il_high_credit_limit perc_princ_paid credit_length_years  \\\n",
       "0                        0.0        1.172631                  26   \n",
       "1                        0.0        0.405812                  12   \n",
       "2                        0.0        1.252361                  10   \n",
       "\n",
       "   secondary_app_credit_length_years  has_desc  \n",
       "0                                  0         1  \n",
       "1                                  0         1  \n",
       "2                                  0         0  \n",
       "\n",
       "[3 rows x 88 columns]"
      ]
     },
     "execution_count": 3,
     "metadata": {},
     "output_type": "execute_result"
    }
   ],
   "source": [
    "df_main.head(3)"
   ]
  },
  {
   "cell_type": "code",
   "execution_count": 4,
   "metadata": {},
   "outputs": [
    {
     "data": {
      "text/plain": [
       "True"
      ]
     },
     "execution_count": 4,
     "metadata": {},
     "output_type": "execute_result"
    }
   ],
   "source": [
    "df_main['grade'].dtype == 'O'"
   ]
  },
  {
   "cell_type": "code",
   "execution_count": 5,
   "metadata": {},
   "outputs": [
    {
     "name": "stdout",
     "output_type": "stream",
     "text": [
      "<class 'pandas.core.frame.DataFrame'>\n",
      "RangeIndex: 1517416 entries, 0 to 1517415\n",
      "Data columns (total 88 columns):\n",
      "loan_amnt                            1517416 non-null float64\n",
      "term                                 1517416 non-null float64\n",
      "int_rate                             1517416 non-null float64\n",
      "installment                          1517416 non-null float64\n",
      "grade                                1517416 non-null object\n",
      "sub_grade                            1517416 non-null object\n",
      "emp_title                            1517416 non-null object\n",
      "emp_length                           1517416 non-null int64\n",
      "home_ownership                       1517416 non-null object\n",
      "annual_inc                           1517416 non-null float64\n",
      "verification_status                  1517416 non-null object\n",
      "issue_d                              1517416 non-null object\n",
      "loan_status                          1517416 non-null int64\n",
      "pymnt_plan                           1517416 non-null object\n",
      "purpose                              1517416 non-null object\n",
      "title                                1517416 non-null object\n",
      "zip_code                             1517416 non-null object\n",
      "addr_state                           1517416 non-null object\n",
      "dti                                  1517416 non-null float64\n",
      "delinq_2yrs                          1517416 non-null float64\n",
      "inq_last_6mths                       1517416 non-null float64\n",
      "mths_since_last_delinq               1517416 non-null float64\n",
      "mths_since_last_record               1517416 non-null float64\n",
      "open_acc                             1517416 non-null float64\n",
      "pub_rec                              1517416 non-null float64\n",
      "revol_bal                            1517416 non-null float64\n",
      "revol_util                           1516360 non-null float64\n",
      "total_acc                            1517416 non-null float64\n",
      "mths_since_last_major_derog          1517416 non-null float64\n",
      "acc_now_delinq                       1517416 non-null float64\n",
      "tot_coll_amt                         1517416 non-null float64\n",
      "tot_cur_bal                          1517416 non-null float64\n",
      "open_acc_6m                          1517416 non-null float64\n",
      "open_act_il                          1517416 non-null float64\n",
      "open_il_12m                          1517416 non-null float64\n",
      "open_il_24m                          1517416 non-null float64\n",
      "mths_since_rcnt_il                   1517416 non-null float64\n",
      "total_bal_il                         1517416 non-null float64\n",
      "il_util                              1517416 non-null float64\n",
      "open_rv_12m                          1517416 non-null float64\n",
      "open_rv_24m                          1517416 non-null float64\n",
      "max_bal_bc                           1517416 non-null float64\n",
      "all_util                             1517416 non-null float64\n",
      "total_rev_hi_lim                     1517416 non-null float64\n",
      "inq_fi                               1517416 non-null float64\n",
      "total_cu_tl                          1517416 non-null float64\n",
      "inq_last_12m                         1517416 non-null float64\n",
      "acc_open_past_24mths                 1517416 non-null float64\n",
      "avg_cur_bal                          1517416 non-null float64\n",
      "bc_open_to_buy                       1517416 non-null float64\n",
      "bc_util                              1517416 non-null float64\n",
      "chargeoff_within_12_mths             1517416 non-null float64\n",
      "delinq_amnt                          1517416 non-null float64\n",
      "mo_sin_old_il_acct                   1517416 non-null float64\n",
      "mo_sin_old_rev_tl_op                 1517416 non-null float64\n",
      "mo_sin_rcnt_rev_tl_op                1517416 non-null float64\n",
      "mo_sin_rcnt_tl                       1517416 non-null float64\n",
      "mort_acc                             1517416 non-null float64\n",
      "mths_since_recent_bc                 1517416 non-null float64\n",
      "mths_since_recent_bc_dlq             1517416 non-null float64\n",
      "mths_since_recent_inq                1517416 non-null float64\n",
      "mths_since_recent_revol_delinq       1517416 non-null float64\n",
      "num_accts_ever_120_pd                1517416 non-null float64\n",
      "num_actv_bc_tl                       1517416 non-null float64\n",
      "num_actv_rev_tl                      1517416 non-null float64\n",
      "num_bc_sats                          1517416 non-null float64\n",
      "num_bc_tl                            1517416 non-null float64\n",
      "num_il_tl                            1517416 non-null float64\n",
      "num_op_rev_tl                        1517416 non-null float64\n",
      "num_rev_accts                        1517416 non-null float64\n",
      "num_rev_tl_bal_gt_0                  1517416 non-null float64\n",
      "num_sats                             1517416 non-null float64\n",
      "num_tl_120dpd_2m                     1517416 non-null float64\n",
      "num_tl_30dpd                         1517416 non-null float64\n",
      "num_tl_90g_dpd_24m                   1517416 non-null float64\n",
      "num_tl_op_past_12m                   1517416 non-null float64\n",
      "pct_tl_nvr_dlq                       1517416 non-null float64\n",
      "percent_bc_gt_75                     1517416 non-null float64\n",
      "pub_rec_bankruptcies                 1517416 non-null float64\n",
      "tax_liens                            1517416 non-null float64\n",
      "tot_hi_cred_lim                      1517416 non-null float64\n",
      "total_bal_ex_mort                    1517416 non-null float64\n",
      "total_bc_limit                       1517416 non-null float64\n",
      "total_il_high_credit_limit           1517416 non-null float64\n",
      "perc_princ_paid                      1517416 non-null float64\n",
      "credit_length_years                  1517416 non-null int64\n",
      "secondary_app_credit_length_years    1517416 non-null int64\n",
      "has_desc                             1517416 non-null int64\n",
      "dtypes: float64(72), int64(5), object(11)\n",
      "memory usage: 1018.8+ MB\n"
     ]
    }
   ],
   "source": [
    "df_main.info()"
   ]
  },
  {
   "cell_type": "code",
   "execution_count": 6,
   "metadata": {},
   "outputs": [
    {
     "name": "stdout",
     "output_type": "stream",
     "text": [
      "grade has 7 unique entries\n",
      "sub_grade has 35 unique entries\n",
      "emp_title has 406938 unique entries\n",
      "home_ownership has 6 unique entries\n",
      "verification_status has 3 unique entries\n",
      "issue_d has 145 unique entries\n",
      "pymnt_plan has 2 unique entries\n",
      "purpose has 14 unique entries\n",
      "title has 63120 unique entries\n",
      "zip_code has 949 unique entries\n",
      "addr_state has 51 unique entries\n"
     ]
    }
   ],
   "source": [
    "# Check the number of unique entries for each categorical column\n",
    "for col_name in df_main.columns:\n",
    "    col_data_type = df_main[col_name].dtype\n",
    "    if (col_data_type == 'O'): # If column type is of object class\n",
    "        uniq_entries = len(df_main[col_name].unique())\n",
    "        print(col_name, \"has\", uniq_entries, \"unique entries\")"
   ]
  },
  {
   "cell_type": "code",
   "execution_count": 7,
   "metadata": {},
   "outputs": [],
   "source": [
    "#\n",
    "# Take out all the categorical data that we do not want to one hot encode\n",
    "#\n",
    "\n",
    "# Columns to be dropped\n",
    "cols_to_be_dropped = [\n",
    "    'grade',\n",
    "    'sub_grade',\n",
    "    'emp_title',\n",
    "    'pymnt_plan',\n",
    "    'title',\n",
    "    'zip_code'\n",
    "]\n",
    "\n",
    "df_main_rf = df_main.drop(cols_to_be_dropped, axis=1)# DataFrame for random forest"
   ]
  },
  {
   "cell_type": "code",
   "execution_count": 8,
   "metadata": {},
   "outputs": [],
   "source": [
    "# Covert issue_d to just the year\n",
    "df_main_rf['issue_d'] = pd.to_datetime(df_main_rf['issue_d']).dt.year"
   ]
  },
  {
   "cell_type": "code",
   "execution_count": 9,
   "metadata": {},
   "outputs": [
    {
     "name": "stdout",
     "output_type": "stream",
     "text": [
      "home_ownership\n",
      "verification_status\n",
      "purpose\n",
      "addr_state\n"
     ]
    }
   ],
   "source": [
    "# Get the categorical data\n",
    "categorical_data = []\n",
    "\n",
    "for col_name in df_main_rf.columns:\n",
    "    col_data_type = df_main_rf[col_name].dtype\n",
    "    if (col_data_type == 'O'): # If column type is of object class\n",
    "        categorical_data.append(col_name)\n",
    "        print(col_name)"
   ]
  },
  {
   "cell_type": "code",
   "execution_count": 10,
   "metadata": {},
   "outputs": [
    {
     "name": "stdout",
     "output_type": "stream",
     "text": [
      "loan_amnt\n",
      "term\n",
      "int_rate\n",
      "installment\n",
      "emp_length\n",
      "annual_inc\n",
      "issue_d\n",
      "loan_status\n",
      "dti\n",
      "delinq_2yrs\n",
      "inq_last_6mths\n",
      "mths_since_last_delinq\n",
      "mths_since_last_record\n",
      "open_acc\n",
      "pub_rec\n",
      "revol_bal\n",
      "revol_util\n",
      "total_acc\n",
      "mths_since_last_major_derog\n",
      "acc_now_delinq\n",
      "tot_coll_amt\n",
      "tot_cur_bal\n",
      "open_acc_6m\n",
      "open_act_il\n",
      "open_il_12m\n",
      "open_il_24m\n",
      "mths_since_rcnt_il\n",
      "total_bal_il\n",
      "il_util\n",
      "open_rv_12m\n",
      "open_rv_24m\n",
      "max_bal_bc\n",
      "all_util\n",
      "total_rev_hi_lim\n",
      "inq_fi\n",
      "total_cu_tl\n",
      "inq_last_12m\n",
      "acc_open_past_24mths\n",
      "avg_cur_bal\n",
      "bc_open_to_buy\n",
      "bc_util\n",
      "chargeoff_within_12_mths\n",
      "delinq_amnt\n",
      "mo_sin_old_il_acct\n",
      "mo_sin_old_rev_tl_op\n",
      "mo_sin_rcnt_rev_tl_op\n",
      "mo_sin_rcnt_tl\n",
      "mort_acc\n",
      "mths_since_recent_bc\n",
      "mths_since_recent_bc_dlq\n",
      "mths_since_recent_inq\n",
      "mths_since_recent_revol_delinq\n",
      "num_accts_ever_120_pd\n",
      "num_actv_bc_tl\n",
      "num_actv_rev_tl\n",
      "num_bc_sats\n",
      "num_bc_tl\n",
      "num_il_tl\n",
      "num_op_rev_tl\n",
      "num_rev_accts\n",
      "num_rev_tl_bal_gt_0\n",
      "num_sats\n",
      "num_tl_120dpd_2m\n",
      "num_tl_30dpd\n",
      "num_tl_90g_dpd_24m\n",
      "num_tl_op_past_12m\n",
      "pct_tl_nvr_dlq\n",
      "percent_bc_gt_75\n",
      "pub_rec_bankruptcies\n",
      "tax_liens\n",
      "tot_hi_cred_lim\n",
      "total_bal_ex_mort\n",
      "total_bc_limit\n",
      "total_il_high_credit_limit\n",
      "perc_princ_paid\n",
      "credit_length_years\n",
      "secondary_app_credit_length_years\n",
      "has_desc\n"
     ]
    }
   ],
   "source": [
    "# Get the numerical data\n",
    "numerical_data = []\n",
    "\n",
    "for col_name in df_main_rf.columns:\n",
    "    col_data_type = df_main_rf[col_name].dtype\n",
    "    if (col_data_type != 'O'): # If column type is of object class\n",
    "        numerical_data.append(col_name)\n",
    "        print(col_name)\n",
    "\n",
    "# Ooppsies, remove loan_status\n",
    "numerical_data.remove('loan_status')\n",
    "numerical_data.remove('perc_princ_paid')"
   ]
  },
  {
   "cell_type": "code",
   "execution_count": 11,
   "metadata": {},
   "outputs": [],
   "source": [
    "# Pipeline for categorical data preprocessing\n",
    "categorical_transformer = Pipeline(steps=[\n",
    "    ('imputer', SimpleImputer(strategy='constant', fill_value='missing')),\n",
    "    ('onehot', OneHotEncoder(handle_unknown='ignore'))])\n",
    "# Pipeline for numerical data preprocessing\n",
    "numeric_transformer = Pipeline(steps=[\n",
    "    ('imputer', SimpleImputer(strategy='median')),\n",
    "    ('scaler', StandardScaler())])"
   ]
  },
  {
   "cell_type": "code",
   "execution_count": 12,
   "metadata": {},
   "outputs": [],
   "source": [
    "# Preprocess for pipeline\n",
    "preprocessor = ColumnTransformer(\n",
    "    transformers=[\n",
    "        ('num', numeric_transformer, numerical_data),\n",
    "        ('cat', categorical_transformer, categorical_data)])"
   ]
  },
  {
   "cell_type": "code",
   "execution_count": 13,
   "metadata": {},
   "outputs": [],
   "source": [
    "# Actual pipeline\n",
    "pipeline = Pipeline(steps=[\n",
    "    ('preprocessor', preprocessor),\n",
    "    ('classifier', RandomForestClassifier())\n",
    "])"
   ]
  },
  {
   "cell_type": "code",
   "execution_count": 14,
   "metadata": {},
   "outputs": [],
   "source": [
    "# Split test and train set\n",
    "X = df_main_rf.drop(['loan_status'], axis=1)\n",
    "y = df_main_rf['loan_status']\n",
    "\n",
    "# Split into test and training set\n",
    "X_train, X_test, y_train, y_test = train_test_split(\n",
    "         X, y, test_size=0.33, random_state=42)"
   ]
  },
  {
   "cell_type": "code",
   "execution_count": 15,
   "metadata": {},
   "outputs": [],
   "source": [
    "# Hyerparameters grid to search within\n",
    "param_grid = [\n",
    "    {'classifier__bootstrap': [False, True],\n",
    "     'classifier__n_estimators': [90, 100, 110],\n",
    "     'classifier__max_features': [0.7, 0.73, 0.75],\n",
    "     #'classifier__min_samples_leaf': [10, 12, 14],\n",
    "     #'classifier__min_samples_split': [3, 5, 7]\n",
    "    },\n",
    "]"
   ]
  },
  {
   "cell_type": "code",
   "execution_count": 16,
   "metadata": {},
   "outputs": [],
   "source": [
    "# Create the GridSearchCV object for random forest classification using roc_auc scoring\n",
    "grid_search = GridSearchCV(estimator=pipeline, param_grid=param_grid, verbose=2, cv=5, scoring='roc_auc', refit=True, n_jobs=8)"
   ]
  },
  {
   "cell_type": "code",
   "execution_count": null,
   "metadata": {},
   "outputs": [
    {
     "name": "stdout",
     "output_type": "stream",
     "text": [
      "Fitting 5 folds for each of 18 candidates, totalling 90 fits\n"
     ]
    },
    {
     "name": "stderr",
     "output_type": "stream",
     "text": [
      "[Parallel(n_jobs=8)]: Using backend LokyBackend with 8 concurrent workers.\n"
     ]
    }
   ],
   "source": [
    "# Fit the model\n",
    "grid_search.fit(X_train, y_train)"
   ]
  },
  {
   "cell_type": "code",
   "execution_count": null,
   "metadata": {},
   "outputs": [],
   "source": [
    "Dont run past this yet"
   ]
  },
  {
   "cell_type": "code",
   "execution_count": null,
   "metadata": {},
   "outputs": [],
   "source": [
    "# Get the best model\n",
    "final_model = grid_search.best_estimator_"
   ]
  }
 ],
 "metadata": {
  "kernelspec": {
   "display_name": "Python 3",
   "language": "python",
   "name": "python3"
  },
  "language_info": {
   "codemirror_mode": {
    "name": "ipython",
    "version": 3
   },
   "file_extension": ".py",
   "mimetype": "text/x-python",
   "name": "python",
   "nbconvert_exporter": "python",
   "pygments_lexer": "ipython3",
   "version": "3.7.3"
  }
 },
 "nbformat": 4,
 "nbformat_minor": 2
}
